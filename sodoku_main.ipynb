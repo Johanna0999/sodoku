{
 "metadata": {
  "language_info": {
   "codemirror_mode": {
    "name": "ipython",
    "version": 3
   },
   "file_extension": ".py",
   "mimetype": "text/x-python",
   "name": "python",
   "nbconvert_exporter": "python",
   "pygments_lexer": "ipython3",
   "version": "3.7.3"
  },
  "orig_nbformat": 2,
  "kernelspec": {
   "name": "python373jvsc74a57bd05a6855cc7d039172041ee1587f8153370ebcbb7eaf8f1e6b7c5753b518387709",
   "display_name": "Python 3.7.3 64-bit ('base': conda)"
  }
 },
 "nbformat": 4,
 "nbformat_minor": 2,
 "cells": [
  {
   "cell_type": "code",
   "execution_count": 6,
   "metadata": {},
   "outputs": [],
   "source": [
    "# Includes + Setup\n",
    "\n",
    "import numpy as np \n",
    "import cv2\n",
    "from matplotlib import pyplot as plt"
   ]
  },
  {
   "cell_type": "code",
   "execution_count": 7,
   "metadata": {},
   "outputs": [],
   "source": [
    "def plot(bild):\n",
    "    cv2.imshow('debugging',bild)\n",
    "    cv2.waitKey(0)\n",
    "    cv2.destroyAllWindows()"
   ]
  },
  {
   "cell_type": "code",
   "execution_count": 20,
   "metadata": {},
   "outputs": [],
   "source": [
    "#Bild einlesen und ausgeben lassen\n",
    "\n",
    "Bild_orig = cv2.imread('Bilder\\sodoku1.jpg',-1)\n",
    "Bild_Grau = cv2.imread('Bilder\\sodoku1.jpg',0)\n",
    "(tresh, Bild_bin) = cv2.threshold(Bild_Grau, 100, 200, cv2.THRESH_BINARY)\n",
    "# cv2.imshow('Original',Bild)\n",
    "# cv2.waitKey(0)\n",
    "# cv2.destroyAllWindows()\n",
    "\n",
    "# cv2.imshow('Grauwerte',Bild_Grau)\n",
    "# cv2.waitKey(0)\n",
    "# cv2.destroyAllWindows()\n",
    "\n",
    "hoehe, breite = Bild_Grau.shape[:2]"
   ]
  },
  {
   "cell_type": "code",
   "execution_count": 9,
   "metadata": {},
   "outputs": [],
   "source": [
    "Bild_neu = cv2.erode(Bild_bin, cv2.getStructuringElement(cv2.MORPH_RECT, (3,3), (1,1)))\n",
    "plot(Bild_neu)\n",
    "Bild_neu = cv2.erode(Bild_neu, cv2.getStructuringElement(cv2.MORPH_RECT, (3,3), (1,1)))\n",
    "plot(Bild_neu)\n",
    "Bild_neu = cv2.dilate(Bild_neu, cv2.getStructuringElement(cv2.MORPH_RECT, (3,3), (1,1)))\n",
    "plot(Bild_neu)\n",
    "Bild_neu = cv2.dilate(Bild_neu, cv2.getStructuringElement(cv2.MORPH_RECT, (3,3), (1,1)))\n",
    "plot(Bild_neu)"
   ]
  },
  {
   "cell_type": "code",
   "execution_count": 10,
   "metadata": {},
   "outputs": [],
   "source": [
    "plot(Bild_neu)"
   ]
  },
  {
   "cell_type": "code",
   "execution_count": 11,
   "metadata": {},
   "outputs": [],
   "source": [
    "# Canny Detektor\n",
    "\n",
    "kanten_filter = cv2.Canny(Bild_neu, 90, 200)\n",
    "plot(kanten_filter)\n"
   ]
  },
  {
   "cell_type": "code",
   "execution_count": 40,
   "metadata": {},
   "outputs": [
    {
     "output_type": "stream",
     "name": "stdout",
     "text": [
      "6 227\n"
     ]
    }
   ],
   "source": [
    "# # Hough Trafo\n",
    "Bild = np.array(Bild_orig)  \n",
    "print(np.min(Bild), np.max(Bild))\n",
    "linien = cv2.HoughLinesP(kanten_filter,5,np.pi/180,180,minLineLength=0,maxLineGap=200)\n",
    "\n",
    "for linie in linien:\n",
    "    x1,y1,x2,y2 = linie[0]\n",
    "    cv2.line(Bild,(x1,y1),(x2,y2),(0,255,0),)\n",
    "\n",
    "plot(Bild)\n"
   ]
  },
  {
   "cell_type": "code",
   "execution_count": 36,
   "metadata": {},
   "outputs": [
    {
     "output_type": "error",
     "ename": "NameError",
     "evalue": "name 'kanten' is not defined",
     "traceback": [
      "\u001b[1;31m---------------------------------------------------------------------------\u001b[0m",
      "\u001b[1;31mNameError\u001b[0m                                 Traceback (most recent call last)",
      "\u001b[1;32m<ipython-input-36-4570e235f016>\u001b[0m in \u001b[0;36m<module>\u001b[1;34m\u001b[0m\n\u001b[1;32m----> 1\u001b[1;33m \u001b[0mlinie\u001b[0m \u001b[1;33m=\u001b[0m \u001b[0mcv2\u001b[0m\u001b[1;33m.\u001b[0m\u001b[0mHoughLinesP\u001b[0m\u001b[1;33m(\u001b[0m\u001b[0mkanten\u001b[0m\u001b[1;33m,\u001b[0m\u001b[1;36m2\u001b[0m\u001b[1;33m,\u001b[0m\u001b[0mnp\u001b[0m\u001b[1;33m.\u001b[0m\u001b[0mpi\u001b[0m\u001b[1;33m/\u001b[0m\u001b[1;36m180\u001b[0m\u001b[1;33m,\u001b[0m\u001b[1;36m150\u001b[0m\u001b[1;33m,\u001b[0m\u001b[0mminLineLength\u001b[0m\u001b[1;33m=\u001b[0m\u001b[1;36m0\u001b[0m\u001b[1;33m,\u001b[0m\u001b[0mmaxLineGap\u001b[0m\u001b[1;33m=\u001b[0m\u001b[1;36m200\u001b[0m\u001b[1;33m)\u001b[0m\u001b[1;33m\u001b[0m\u001b[1;33m\u001b[0m\u001b[0m\n\u001b[0m\u001b[0;32m      2\u001b[0m \u001b[0mx1\u001b[0m\u001b[1;33m,\u001b[0m\u001b[0my1\u001b[0m\u001b[1;33m,\u001b[0m\u001b[0mx2\u001b[0m\u001b[1;33m,\u001b[0m\u001b[0my2\u001b[0m \u001b[1;33m=\u001b[0m \u001b[0mlinie\u001b[0m\u001b[1;33m[\u001b[0m\u001b[1;36m42\u001b[0m\u001b[1;33m]\u001b[0m\u001b[1;33m[\u001b[0m\u001b[1;36m0\u001b[0m\u001b[1;33m]\u001b[0m\u001b[1;33m\u001b[0m\u001b[1;33m\u001b[0m\u001b[0m\n\u001b[0;32m      3\u001b[0m \u001b[0mcv2\u001b[0m\u001b[1;33m.\u001b[0m\u001b[0mline\u001b[0m\u001b[1;33m(\u001b[0m\u001b[0mBild\u001b[0m\u001b[1;33m,\u001b[0m\u001b[1;33m(\u001b[0m\u001b[0mx1\u001b[0m\u001b[1;33m,\u001b[0m\u001b[0my1\u001b[0m\u001b[1;33m)\u001b[0m\u001b[1;33m,\u001b[0m\u001b[1;33m(\u001b[0m\u001b[0mx2\u001b[0m\u001b[1;33m,\u001b[0m\u001b[0my2\u001b[0m\u001b[1;33m)\u001b[0m\u001b[1;33m,\u001b[0m\u001b[1;33m(\u001b[0m\u001b[1;36m0\u001b[0m\u001b[1;33m,\u001b[0m\u001b[1;36m255\u001b[0m\u001b[1;33m,\u001b[0m\u001b[1;36m0\u001b[0m\u001b[1;33m)\u001b[0m\u001b[1;33m,\u001b[0m\u001b[1;36m2\u001b[0m\u001b[1;33m)\u001b[0m\u001b[1;33m\u001b[0m\u001b[1;33m\u001b[0m\u001b[0m\n\u001b[0;32m      4\u001b[0m \u001b[1;33m\u001b[0m\u001b[0m\n\u001b[0;32m      5\u001b[0m \u001b[0mplot\u001b[0m\u001b[1;33m(\u001b[0m\u001b[0mBild\u001b[0m\u001b[1;33m)\u001b[0m\u001b[1;33m\u001b[0m\u001b[1;33m\u001b[0m\u001b[0m\n",
      "\u001b[1;31mNameError\u001b[0m: name 'kanten' is not defined"
     ]
    }
   ],
   "source": [
    "linie = cv2.HoughLinesP(kanten,2,np.pi/180,150,minLineLength=0,maxLineGap=200)\n",
    "x1,y1,x2,y2 = linie[42][0]\n",
    "cv2.line(Bild,(x1,y1),(x2,y2),(0,255,0),2)\n",
    "\n",
    "plot(Bild)"
   ]
  },
  {
   "cell_type": "code",
   "execution_count": 22,
   "metadata": {},
   "outputs": [],
   "source": [
    "# ränder\n",
    "\n",
    "index_luro = [0, 0, 0, 0]\n",
    "min_links_x1 = linie[0][0][0]\n",
    "min_unten_y1 = linie[0][0][1]\n",
    "max_rechts_x2 = linie[0][0][2]\n",
    "max_oben_y2 = linie[0][0][3]\n",
    "for i in range(0,len(linie)):\n",
    "    # x1 vergleichen\n",
    "    if linie[i][0][0] < min_links_x1:\n",
    "        min_links_x1 = linie[i][0][0]\n",
    "    if linie[i][0][1] < min_unten_y1:\n",
    "        min_unten_y1 = linie[i][0][1]\n",
    "    if linie[i][0][2] > max_rechts_x2:\n",
    "        max_rechts_x2 = linie[i][0][2]\n",
    "    if linie[i][0][3] > max_oben_y2:\n",
    "        max_oben_y2 = linie[i][0][3]\n",
    "    \n",
    "\n"
   ]
  },
  {
   "cell_type": "code",
   "execution_count": 55,
   "metadata": {},
   "outputs": [],
   "source": [
    "def kleinstes_x1(elem):\n",
    "    return elem[0][0]\n",
    "\n",
    "def kleinstes_y1(elem):\n",
    "    return elem[0][1]\n",
    "\n",
    "def groesstes_x2(elem):\n",
    "    return elem[0][2]\n",
    "\n",
    "def groesstes_y2(elem):\n",
    "    return elem[0][3]"
   ]
  },
  {
   "cell_type": "code",
   "execution_count": 70,
   "metadata": {},
   "outputs": [
    {
     "output_type": "stream",
     "name": "stdout",
     "text": [
      "[array([[  6, 235, 555, 235]], dtype=int32), array([[  8, 228, 560, 238]], dtype=int32), array([[ 11,  60, 292,  64]], dtype=int32), array([[ 13, 525, 172, 530]], dtype=int32), array([[ 13, 528, 572, 547]], dtype=int32), array([[ 14,  12, 555,  12]], dtype=int32), array([[ 14, 531, 189, 534]], dtype=int32), array([[ 14, 524,  34, 138]], dtype=int32), array([[ 14, 510, 575, 550]], dtype=int32), array([[ 15,  65, 556,  65]], dtype=int32), array([[ 17, 466, 568, 476]], dtype=int32), array([[ 17, 460, 568, 479]], dtype=int32), array([[ 20, 405, 560, 414]], dtype=int32), array([[ 20, 526,  47,   6]], dtype=int32), array([[ 23, 531,  41,   2]], dtype=int32), array([[ 24, 347, 564, 357]], dtype=int32), array([[ 24, 526,  42,   7]], dtype=int32), array([[ 25, 332, 564, 360]], dtype=int32), array([[ 27, 286, 562, 295]], dtype=int32), array([[ 28, 343, 564, 362]], dtype=int32), array([[ 29, 322, 564, 359]], dtype=int32), array([[ 32, 174, 558, 174]], dtype=int32), array([[ 32, 173, 554, 173]], dtype=int32), array([[ 32, 175, 554, 184]], dtype=int32), array([[ 34, 116, 557, 125]], dtype=int32), array([[ 34, 120, 324, 120]], dtype=int32), array([[ 34, 131, 553, 122]], dtype=int32), array([[ 34, 135, 557, 117]], dtype=int32), array([[ 36, 170,  44,   6]], dtype=int32), array([[ 37,  29,  45, 532]], dtype=int32), array([[ 39,   2, 555,  11]], dtype=int32), array([[ 42, 527,  69,   6]], dtype=int32), array([[ 47, 532,  74,   6]], dtype=int32), array([[ 52, 532,  61,   3]], dtype=int32), array([[ 56, 532,  75,   6]], dtype=int32), array([[ 57, 532,  66,   6]], dtype=int32), array([[ 58,   3, 551,  20]], dtype=int32), array([[ 74, 469,  99,   4]], dtype=int32), array([[ 76, 469, 101,   4]], dtype=int32), array([[ 78, 518,  96,   4]], dtype=int32), array([[136, 506, 153,   5]], dtype=int32), array([[138, 533, 157,   5]], dtype=int32), array([[140, 432, 155,   5]], dtype=int32), array([[146, 548, 421,   8]], dtype=int32), array([[175, 534, 175,   5]], dtype=int32), array([[193, 535, 221,   6]], dtype=int32), array([[198, 535, 217,   6]], dtype=int32), array([[200, 535, 203, 381]], dtype=int32), array([[202, 311, 208,   6]], dtype=int32), array([[206, 284, 216,   6]], dtype=int32), array([[208, 535, 208,  13]], dtype=int32), array([[215, 531, 242,  10]], dtype=int32), array([[226, 531, 244,  10]], dtype=int32), array([[231, 531, 240,  10]], dtype=int32), array([[237, 536, 237,  10]], dtype=int32), array([[257, 536, 266,   7]], dtype=int32), array([[314, 538, 324,   7]], dtype=int32), array([[316, 533, 325,  13]], dtype=int32), array([[317, 348, 322,  29]], dtype=int32), array([[339, 538, 349,  11]], dtype=int32), array([[343, 534, 360,  37]], dtype=int32), array([[344, 534, 361,  41]], dtype=int32), array([[352,  11, 361, 539]], dtype=int32), array([[354, 539, 354,  11]], dtype=int32), array([[362, 535, 569, 539]], dtype=int32), array([[377, 476, 377,  66]], dtype=int32), array([[378, 523, 385,  67]], dtype=int32), array([[378,  40, 395, 540]], dtype=int32), array([[382, 540, 382,   8]], dtype=int32), array([[400, 180, 554, 182]], dtype=int32), array([[413, 177, 559, 177]], dtype=int32), array([[413, 525, 556,  82]], dtype=int32), array([[429, 541, 439,   8]], dtype=int32), array([[439, 541, 439,  19]], dtype=int32), array([[493,   9, 503, 543]], dtype=int32), array([[495,   9, 505, 543]], dtype=int32), array([[496,   9, 506, 543]], dtype=int32), array([[516,   9, 535, 544]], dtype=int32), array([[522,   9, 541, 544]], dtype=int32), array([[524,   9, 543, 544]], dtype=int32), array([[525, 544, 551,  42]], dtype=int32), array([[526,   9, 545, 545]], dtype=int32), array([[528, 544, 528,   9]], dtype=int32), array([[546, 545, 555,  13]], dtype=int32), array([[552,   9, 561, 545]], dtype=int32), array([[553,   9, 572, 555]], dtype=int32), array([[557, 266, 562, 545]], dtype=int32)]\n"
     ]
    },
    {
     "output_type": "execute_result",
     "data": {
      "text/plain": [
       "[array([[  6, 235, 555, 235]], dtype=int32),\n",
       " array([[  8, 228, 560, 238]], dtype=int32),\n",
       " array([[ 11,  60, 292,  64]], dtype=int32),\n",
       " array([[ 13, 525, 172, 530]], dtype=int32),\n",
       " array([[ 13, 528, 572, 547]], dtype=int32)]"
      ]
     },
     "metadata": {},
     "execution_count": 70
    }
   ],
   "source": [
    "n = 10 \n",
    "kleinste_x1 = list(linien)\n",
    "kleinste_x1.sort(key=kleinstes_x1)\n",
    "\n",
    "print(kleinste_x1)\n",
    "kleinste_x1[:5]"
   ]
  },
  {
   "cell_type": "code",
   "execution_count": 59,
   "metadata": {},
   "outputs": [
    {
     "output_type": "stream",
     "name": "stdout",
     "text": [
      "None\n"
     ]
    }
   ],
   "source": [
    "print(kleinste_x1)"
   ]
  },
  {
   "cell_type": "code",
   "execution_count": 60,
   "metadata": {},
   "outputs": [
    {
     "output_type": "execute_result",
     "data": {
      "text/plain": [
       "[array([[ 24, 347, 564, 357]], dtype=int32),\n",
       " array([[200, 535, 203, 381]], dtype=int32),\n",
       " array([[138, 533, 157,   5]], dtype=int32),\n",
       " array([[ 23, 531,  41,   2]], dtype=int32),\n",
       " array([[ 14,  12, 555,  12]], dtype=int32),\n",
       " array([[ 15,  65, 556,  65]], dtype=int32),\n",
       " array([[382, 540, 382,   8]], dtype=int32),\n",
       " array([[ 34, 116, 557, 125]], dtype=int32),\n",
       " array([[ 32, 174, 558, 174]], dtype=int32),\n",
       " array([[  8, 228, 560, 238]], dtype=int32),\n",
       " array([[ 13, 525, 172, 530]], dtype=int32),\n",
       " array([[ 14, 531, 189, 534]], dtype=int32),\n",
       " array([[257, 536, 266,   7]], dtype=int32),\n",
       " array([[314, 538, 324,   7]], dtype=int32),\n",
       " array([[495,   9, 505, 543]], dtype=int32),\n",
       " array([[ 20, 405, 560, 414]], dtype=int32),\n",
       " array([[ 39,   2, 555,  11]], dtype=int32),\n",
       " array([[ 78, 518,  96,   4]], dtype=int32),\n",
       " array([[ 27, 286, 562, 295]], dtype=int32),\n",
       " array([[553,   9, 572, 555]], dtype=int32),\n",
       " array([[ 17, 466, 568, 476]], dtype=int32),\n",
       " array([[202, 311, 208,   6]], dtype=int32),\n",
       " array([[429, 541, 439,   8]], dtype=int32),\n",
       " array([[198, 535, 217,   6]], dtype=int32),\n",
       " array([[ 14, 524,  34, 138]], dtype=int32),\n",
       " array([[439, 541, 439,  19]], dtype=int32),\n",
       " array([[136, 506, 153,   5]], dtype=int32),\n",
       " array([[557, 266, 562, 545]], dtype=int32),\n",
       " array([[400, 180, 554, 182]], dtype=int32),\n",
       " array([[496,   9, 506, 543]], dtype=int32),\n",
       " array([[ 32, 173, 554, 173]], dtype=int32),\n",
       " array([[  6, 235, 555, 235]], dtype=int32),\n",
       " array([[193, 535, 221,   6]], dtype=int32),\n",
       " array([[362, 535, 569, 539]], dtype=int32),\n",
       " array([[ 13, 528, 572, 547]], dtype=int32),\n",
       " array([[378, 523, 385,  67]], dtype=int32),\n",
       " array([[140, 432, 155,   5]], dtype=int32),\n",
       " array([[ 76, 469, 101,   4]], dtype=int32),\n",
       " array([[ 52, 532,  61,   3]], dtype=int32),\n",
       " array([[ 25, 332, 564, 360]], dtype=int32),\n",
       " array([[493,   9, 503, 543]], dtype=int32),\n",
       " array([[377, 476, 377,  66]], dtype=int32),\n",
       " array([[524,   9, 543, 544]], dtype=int32),\n",
       " array([[ 11,  60, 292,  64]], dtype=int32),\n",
       " array([[354, 539, 354,  11]], dtype=int32),\n",
       " array([[552,   9, 561, 545]], dtype=int32),\n",
       " array([[413, 177, 559, 177]], dtype=int32),\n",
       " array([[ 37,  29,  45, 532]], dtype=int32),\n",
       " array([[208, 535, 208,  13]], dtype=int32),\n",
       " array([[ 32, 175, 554, 184]], dtype=int32),\n",
       " array([[522,   9, 541, 544]], dtype=int32),\n",
       " array([[ 56, 532,  75,   6]], dtype=int32),\n",
       " array([[231, 531, 240,  10]], dtype=int32),\n",
       " array([[317, 348, 322,  29]], dtype=int32),\n",
       " array([[ 17, 460, 568, 479]], dtype=int32),\n",
       " array([[528, 544, 528,   9]], dtype=int32),\n",
       " array([[ 34, 120, 324, 120]], dtype=int32),\n",
       " array([[ 42, 527,  69,   6]], dtype=int32),\n",
       " array([[ 20, 526,  47,   6]], dtype=int32),\n",
       " array([[525, 544, 551,  42]], dtype=int32),\n",
       " array([[237, 536, 237,  10]], dtype=int32),\n",
       " array([[ 34, 131, 553, 122]], dtype=int32),\n",
       " array([[ 36, 170,  44,   6]], dtype=int32),\n",
       " array([[ 47, 532,  74,   6]], dtype=int32),\n",
       " array([[344, 534, 361,  41]], dtype=int32),\n",
       " array([[378,  40, 395, 540]], dtype=int32),\n",
       " array([[ 14, 510, 575, 550]], dtype=int32),\n",
       " array([[ 28, 343, 564, 362]], dtype=int32),\n",
       " array([[ 74, 469,  99,   4]], dtype=int32),\n",
       " array([[ 29, 322, 564, 359]], dtype=int32),\n",
       " array([[ 34, 135, 557, 117]], dtype=int32),\n",
       " array([[352,  11, 361, 539]], dtype=int32),\n",
       " array([[546, 545, 555,  13]], dtype=int32),\n",
       " array([[ 24, 526,  42,   7]], dtype=int32),\n",
       " array([[146, 548, 421,   8]], dtype=int32),\n",
       " array([[ 58,   3, 551,  20]], dtype=int32),\n",
       " array([[215, 531, 242,  10]], dtype=int32),\n",
       " array([[516,   9, 535, 544]], dtype=int32),\n",
       " array([[ 57, 532,  66,   6]], dtype=int32),\n",
       " array([[343, 534, 360,  37]], dtype=int32),\n",
       " array([[316, 533, 325,  13]], dtype=int32),\n",
       " array([[339, 538, 349,  11]], dtype=int32),\n",
       " array([[526,   9, 545, 545]], dtype=int32),\n",
       " array([[226, 531, 244,  10]], dtype=int32),\n",
       " array([[206, 284, 216,   6]], dtype=int32),\n",
       " array([[175, 534, 175,   5]], dtype=int32),\n",
       " array([[413, 525, 556,  82]], dtype=int32)]"
      ]
     },
     "metadata": {},
     "execution_count": 60
    }
   ],
   "source": [
    "list(linien)"
   ]
  },
  {
   "cell_type": "code",
   "execution_count": null,
   "metadata": {},
   "outputs": [],
   "source": []
  }
 ]
}