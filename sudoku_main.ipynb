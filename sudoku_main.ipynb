{
 "metadata": {
  "language_info": {
   "codemirror_mode": {
    "name": "ipython",
    "version": 3
   },
   "file_extension": ".py",
   "mimetype": "text/x-python",
   "name": "python",
   "nbconvert_exporter": "python",
   "pygments_lexer": "ipython3",
   "version": "3.7.3"
  },
  "orig_nbformat": 2,
  "kernelspec": {
   "name": "python373jvsc74a57bd05a6855cc7d039172041ee1587f8153370ebcbb7eaf8f1e6b7c5753b518387709",
   "display_name": "Python 3.7.3 64-bit ('base': conda)"
  }
 },
 "nbformat": 4,
 "nbformat_minor": 2,
 "cells": [
  {
   "cell_type": "code",
   "execution_count": 10,
   "metadata": {},
   "outputs": [],
   "source": [
    "#Imports Bildverarbeitung\n",
    "import numpy as np \n",
    "import cv2\n",
    "from matplotlib import pyplot as plt\n",
    "from skimage import exposure\n",
    "\n",
    "#Imports Neuro\n",
    "import tensorflow as tf\n",
    "import keras\n",
    "from keras.models import Sequential\n",
    "from keras.layers import Dense #alle Neuronen sind miteinander verbunden\n",
    "from keras.optimizers import Adam\n",
    "from keras.utils import to_categorical"
   ]
  },
  {
   "cell_type": "code",
   "execution_count": 2,
   "metadata": {},
   "outputs": [],
   "source": [
    "def plot(bild):\n",
    "    cv2.imshow('debugging',bild)\n",
    "    cv2.waitKey(0)\n",
    "    cv2.destroyAllWindows()"
   ]
  },
  {
   "cell_type": "code",
   "execution_count": 3,
   "metadata": {},
   "outputs": [],
   "source": [
    "##Bild einlesen und ausgeben lassen\n",
    "\n",
    "Bild_orig = cv2.imread('Bilder\\sodoku3.jpg',-1)\n",
    "Bild_Grau = cv2.imread('Bilder\\sodoku3.jpg',0)\n",
    "#(tresh, Bild_bin) = cv2.threshold(Bild_Grau, 100, 200, cv2.THRESH_BINARY)\n",
    "\n",
    "hoehe, breite = Bild_Grau.shape[:2]"
   ]
  },
  {
   "cell_type": "code",
   "execution_count": 4,
   "metadata": {
    "tags": []
   },
   "outputs": [],
   "source": [
    "## Sodoku erkennen\n",
    "\n",
    "Bild = np.array(Bild_orig) \n",
    "#plot(Bild_orig)\n",
    "\n",
    "# Kantendetektion mit Canny\n",
    "canny_output = cv2.Canny(Bild, 90, 200)\n",
    "#plot(canny_output)\n",
    "\n",
    "# Konturenfilterung anhand der berechneten Kanten\n",
    "#TODO algorithmus recherchieren opencv\n",
    "contours = None\n",
    "contours, _ = cv2.findContours(canny_output, cv2.RETR_EXTERNAL, cv2.CHAIN_APPROX_SIMPLE) \n",
    "# cv2.RETR_TREE --> alle gefundenen Konturen werden gespeichert\n",
    "# cv2.CHAIN_APPROX_SIMPLE --> nur die Punkte von den Ecken werden gespeichert (mehrere, nicht nur vier, aber an den vier Ecken)\n",
    "\n",
    "# größtes rechteck finden\n",
    "index_groesstes = 0\n",
    "groesstes = cv2.contourArea(contours[index_groesstes])\n",
    "for i in range(1, len(contours)):\n",
    "    a = cv2.contourArea(contours[i])  # Fläche der Rechtecke itterativ bestimmen\n",
    "    if a > groesstes:\n",
    "        groesstes=a\n",
    "        index_groesstes = i; \n",
    "\n",
    "# Koordinaten der Eckpunkte ermitteln quelle: https://www.geeksforgeeks.org/find-co-ordinates-of-contours-using-opencv-python/\n",
    "approx = cv2.approxPolyDP(contours[index_groesstes], 0.009 * cv2.arcLength(contours[index_groesstes], True), True)\n",
    "#Plot\n",
    "cv2.drawContours(Bild, [approx], 0, (0, 0, 255), 5) \n",
    "plot(Bild)\n",
    "\n",
    "# Bild perspektivisch verändern und zuschneiden quelle: https://www.pyimagesearch.com/2014/05/05/building-pokedex-python-opencv-perspective-warping-step-5-6/\n",
    "points = approx.reshape(4,2)\n",
    "rect = np.zeros((4, 2), dtype = \"float32\")\n",
    "\n",
    "summe = points.sum(axis = 1)\n",
    "rect[0] = points[np.argmin(summe)] #oben_links\n",
    "rect[2] = points[np.argmax(summe)] #unten_rechts\n",
    "differenz = np.diff(points, axis = 1)\n",
    "rect[1] = points[np.argmin(differenz)] #oben_rechts\n",
    "rect[3] = points[np.argmax(differenz)] #unten_links\n",
    "\n",
    "maxWidth = 400\n",
    "maxHeight = maxWidth\n",
    "\n",
    "dst = np.array([[0, 0], [maxWidth - 1, 0], [maxWidth - 1, maxHeight - 1], [0, maxHeight - 1]], dtype = \"float32\")\n",
    "\n",
    "M = cv2.getPerspectiveTransform(rect, dst)\n",
    "warp = cv2.warpPerspective(Bild, M, (maxWidth, maxHeight))\n",
    "warp = cv2.cvtColor(warp, cv2.COLOR_BGR2GRAY)\n",
    "warp = exposure.rescale_intensity(warp, out_range = (0, 255))\n",
    "\n",
    "(h, w) = warp.shape\n",
    "plot(warp)"
   ]
  },
  {
   "cell_type": "code",
   "execution_count": 5,
   "metadata": {},
   "outputs": [],
   "source": [
    "#zahlen analysieren\n",
    "#hier auch noch eventuelle rotation beachten\n",
    "#sodoku algo\n",
    "#zahlen ausfüllen"
   ]
  },
  {
   "cell_type": "code",
   "execution_count": 9,
   "metadata": {},
   "outputs": [
    {
     "output_type": "error",
     "ename": "NameError",
     "evalue": "name 'model' is not defined",
     "traceback": [
      "\u001b[1;31m---------------------------------------------------------------------------\u001b[0m",
      "\u001b[1;31mNameError\u001b[0m                                 Traceback (most recent call last)",
      "\u001b[1;32m<ipython-input-9-87edf2447e06>\u001b[0m in \u001b[0;36m<module>\u001b[1;34m\u001b[0m\n\u001b[0;32m     17\u001b[0m \u001b[1;33m\u001b[0m\u001b[0m\n\u001b[0;32m     18\u001b[0m \u001b[1;33m\u001b[0m\u001b[0m\n\u001b[1;32m---> 19\u001b[1;33m \u001b[0mmodel\u001b[0m\u001b[1;33m.\u001b[0m\u001b[0mfit\u001b[0m\u001b[1;33m(\u001b[0m\u001b[0mx_train\u001b[0m\u001b[1;33m.\u001b[0m\u001b[0mreshape\u001b[0m\u001b[1;33m(\u001b[0m\u001b[1;36m60000\u001b[0m\u001b[1;33m,\u001b[0m \u001b[1;36m784\u001b[0m\u001b[1;33m)\u001b[0m\u001b[1;33m,\u001b[0m \u001b[0my_train\u001b[0m\u001b[1;33m,\u001b[0m \u001b[0mbatch_size\u001b[0m\u001b[1;33m=\u001b[0m\u001b[1;36m64\u001b[0m\u001b[1;33m,\u001b[0m \u001b[0mepochs\u001b[0m\u001b[1;33m=\u001b[0m\u001b[1;36m1\u001b[0m\u001b[1;33m)\u001b[0m\u001b[1;33m\u001b[0m\u001b[1;33m\u001b[0m\u001b[0m\n\u001b[0m\u001b[0;32m     20\u001b[0m \u001b[1;33m\u001b[0m\u001b[0m\n\u001b[0;32m     21\u001b[0m \u001b[1;33m\u001b[0m\u001b[0m\n",
      "\u001b[1;31mNameError\u001b[0m: name 'model' is not defined"
     ]
    }
   ],
   "source": [
    "## Neuronales Netz zur Zahlenerkennung quelle: http://python-programmieren.maximilianwittmann.de/kunstliche-intelligenz-programmieren/\n",
    "\n",
    "#Imports\n",
    "import tensorflow as tf\n",
    "import keras\n",
    "from keras.models import Sequential\n",
    "from keras.layers import Dense #alle Neuronen sind miteinander verbunden\n",
    "from keras.optimizers import Adam\n",
    "from keras.utils import to_categorical\n",
    "\n",
    "#70000 Datensätze aus der Keras Bib (28 x 28 Pixel)\n",
    "mnist = keras.datasets.mnist\n",
    "#Trennung in Trainings- und Testdaten\n",
    "(x_train, y_train), (x_test, y_test) = mnist.load_data()\n",
    "\n",
    "plot(x_train[0])\n",
    "\n",
    "\n",
    "model.fit(x_train.reshape(60000, 784), y_train, batch_size=64, epochs=1)\n",
    "\n",
    "\n",
    "\n",
    "\n"
   ]
  },
  {
   "cell_type": "code",
   "execution_count": null,
   "metadata": {},
   "outputs": [],
   "source": []
  }
 ]
}